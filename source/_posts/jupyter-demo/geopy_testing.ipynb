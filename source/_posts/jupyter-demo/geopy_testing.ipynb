{
 "cells": [
  {
   "cell_type": "code",
   "execution_count": 1,
   "metadata": {},
   "outputs": [
    {
     "name": "stdout",
     "output_type": "stream",
     "text": [
      "/Users/joe/anaconda3/envs/joe_py36/bin/python\r\n"
     ]
    }
   ],
   "source": [
    "! which python"
   ]
  },
  {
   "cell_type": "code",
   "execution_count": null,
   "metadata": {},
   "outputs": [],
   "source": []
  },
  {
   "cell_type": "code",
   "execution_count": 21,
   "metadata": {},
   "outputs": [
    {
     "name": "stdout",
     "output_type": "stream",
     "text": [
      "台北101, 7, 信義路五段, 西村里, 臺北市, 信義區, 臺北市, 11049, Taiwan\n",
      "25.03368625 121.56481033101315\n",
      "{'place_id': 131652329, 'licence': 'Data © OpenStreetMap contributors, ODbL 1.0. https://osm.org/copyright', 'osm_type': 'way', 'osm_id': 198637969, 'boundingbox': ['25.0333741', '25.0339529', '121.5644934', '121.5651265'], 'lat': '25.03368625', 'lon': '121.56481033101315', 'display_name': '台北101, 7, 信義路五段, 西村里, 臺北市, 信義區, 臺北市, 11049, Taiwan', 'class': 'building', 'type': 'commercial', 'importance': 0.6234659627195251}\n"
     ]
    }
   ],
   "source": [
    "from geopy.geocoders import Nominatim\n",
    "geolocator = Nominatim(user_agent=\"my-application\")\n",
    "location = geolocator.geocode(\"台北101\")\n",
    "print(location.address)\n",
    "print(location.latitude, location.longitude)\n",
    "print(location.raw)\n"
   ]
  },
  {
   "cell_type": "code",
   "execution_count": 31,
   "metadata": {},
   "outputs": [
    {
     "name": "stdout",
     "output_type": "stream",
     "text": [
      "麗山高中, 100, 環山路二段, 港富里, 內湖科技園區, 內湖區, 臺北市, 114, Taiwan\n",
      "25.0852582 121.57789295239849\n",
      "{'place_id': 235790759, 'licence': 'Data © OpenStreetMap contributors, ODbL 1.0. https://osm.org/copyright', 'osm_type': 'relation', 'osm_id': 4790964, 'boundingbox': ['25.0839322', '25.0865509', '121.5765468', '121.5789789'], 'lat': '25.0852582', 'lon': '121.57789295239849', 'display_name': '麗山高中, 100, 環山路二段, 港富里, 內湖科技園區, 內湖區, 臺北市, 114, Taiwan', 'class': 'amenity', 'type': 'school', 'importance': 0.41093879814957734, 'icon': 'https://nominatim.openstreetmap.org/images/mapicons/education_school.p.20.png'}\n"
     ]
    }
   ],
   "source": [
    "location = geolocator.geocode(\"麗山高中\")\n",
    "print(location.address)\n",
    "print(location.latitude, location.longitude)\n",
    "print(location.raw)"
   ]
  },
  {
   "cell_type": "code",
   "execution_count": 38,
   "metadata": {},
   "outputs": [
    {
     "name": "stdout",
     "output_type": "stream",
     "text": [
      "5.863348200787801 km\n",
      "5.863348200787801 km\n",
      "5.863348200787801\n",
      "5.884012063917416 km\n"
     ]
    }
   ],
   "source": [
    "# from geopy.distance import vincenty\n",
    "from geopy.distance import distance, geodesic, great_circle\n",
    "oneOone = (25.03368625, 121.56481033101315)\n",
    "home = (25.0852582, 121.57789295239849)\n",
    "print(distance(oneOone, home))\n",
    "print(geodesic(oneOone, home))\n",
    "a = geodesic(oneOone, home)\n",
    "print(a.kilometers)\n",
    "print(great_circle(oneOone, home))    # 0.5% Error, Quick, 1/20 of geodesic time"
   ]
  },
  {
   "cell_type": "code",
   "execution_count": 42,
   "metadata": {},
   "outputs": [
    {
     "name": "stdout",
     "output_type": "stream",
     "text": [
      "天安门, 1, 西长安街, 北京市, 东城区, 北京市, 100010, China 中国\n"
     ]
    }
   ],
   "source": [
    "location = geolocator.reverse(\"39.90733345,116.391244079988\")\n",
    "print(location.address)"
   ]
  },
  {
   "cell_type": "code",
   "execution_count": 46,
   "metadata": {},
   "outputs": [
    {
     "name": "stdout",
     "output_type": "stream",
     "text": [
      "{\n",
      "    \"place_id\": 235962976,\n",
      "    \"licence\": \"Data © OpenStreetMap contributors, ODbL 1.0. https://osm.org/copyright\",\n",
      "    \"osm_type\": \"relation\",\n",
      "    \"osm_id\": 8847697,\n",
      "    \"lat\": \"39.907359\",\n",
      "    \"lon\": \"116.39126301779459\",\n",
      "    \"display_name\": \"天安门, 1, 西长安街, 北京市, 东城区, 北京市, 100010, China 中国\",\n",
      "    \"address\": {\n",
      "        \"address29\": \"天安门\",\n",
      "        \"house_number\": \"1\",\n",
      "        \"road\": \"西长安街\",\n",
      "        \"city\": \"东城区\",\n",
      "        \"state\": \"北京市\",\n",
      "        \"postcode\": \"100010\",\n",
      "        \"country\": \"China 中国\",\n",
      "        \"country_code\": \"cn\"\n",
      "    },\n",
      "    \"boundingbox\": [\n",
      "        \"39.9071482\",\n",
      "        \"39.9075289\",\n",
      "        \"116.3905678\",\n",
      "        \"116.3919619\"\n",
      "    ]\n",
      "}\n"
     ]
    }
   ],
   "source": [
    "import json\n",
    "print(json.dumps(location.raw, indent=4, ensure_ascii=False))"
   ]
  },
  {
   "cell_type": "code",
   "execution_count": null,
   "metadata": {},
   "outputs": [],
   "source": []
  }
 ],
 "metadata": {
  "kernelspec": {
   "display_name": "Python 3",
   "language": "python",
   "name": "python3"
  },
  "language_info": {
   "codemirror_mode": {
    "name": "ipython",
    "version": 3
   },
   "file_extension": ".py",
   "mimetype": "text/x-python",
   "name": "python",
   "nbconvert_exporter": "python",
   "pygments_lexer": "ipython3",
   "version": "3.6.8"
  }
 },
 "nbformat": 4,
 "nbformat_minor": 2
}
