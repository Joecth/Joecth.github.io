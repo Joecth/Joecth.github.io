{
 "cells": [
  {
   "cell_type": "code",
   "execution_count": 60,
   "metadata": {},
   "outputs": [
    {
     "name": "stdout",
     "output_type": "stream",
     "text": [
      "/Users/joe/anaconda3/envs/joe_py36/bin/python\r\n"
     ]
    }
   ],
   "source": [
    "! which python\n",
    "# https://finance.yahoo.com/quote/SPY/history?period1=728236800&period2=1523462400&interval=1d&filter=history&frequency=1d"
   ]
  },
  {
   "cell_type": "code",
   "execution_count": 61,
   "metadata": {},
   "outputs": [],
   "source": [
    "import pandas as pd\n",
    "import numpy as np\n",
    "from keras.models import Sequential\n",
    "from keras.layers import Dense, Dropout, Activation, Flatten, LSTM, TimeDistributed, RepeatVector\n",
    "from keras.layers.normalization import BatchNormalization\n",
    "from keras.optimizers import Adam\n",
    "from keras.callbacks import EarlyStopping, ModelCheckpoint\n",
    "import matplotlib.pyplot as plt\n",
    "%matplotlib inline"
   ]
  },
  {
   "cell_type": "markdown",
   "metadata": {},
   "source": [
    "# API Preparation"
   ]
  },
  {
   "cell_type": "code",
   "execution_count": 62,
   "metadata": {},
   "outputs": [
    {
     "name": "stdout",
     "output_type": "stream",
     "text": [
      "(2264, 7)\n"
     ]
    },
    {
     "data": {
      "text/html": [
       "<div>\n",
       "<style scoped>\n",
       "    .dataframe tbody tr th:only-of-type {\n",
       "        vertical-align: middle;\n",
       "    }\n",
       "\n",
       "    .dataframe tbody tr th {\n",
       "        vertical-align: top;\n",
       "    }\n",
       "\n",
       "    .dataframe thead th {\n",
       "        text-align: right;\n",
       "    }\n",
       "</style>\n",
       "<table border=\"1\" class=\"dataframe\">\n",
       "  <thead>\n",
       "    <tr style=\"text-align: right;\">\n",
       "      <th></th>\n",
       "      <th>Date</th>\n",
       "      <th>Open</th>\n",
       "      <th>High</th>\n",
       "      <th>Low</th>\n",
       "      <th>Close</th>\n",
       "      <th>Adj Close</th>\n",
       "      <th>Volume</th>\n",
       "    </tr>\n",
       "  </thead>\n",
       "  <tbody>\n",
       "    <tr>\n",
       "      <th>0</th>\n",
       "      <td>2011-03-30</td>\n",
       "      <td>27.500000</td>\n",
       "      <td>27.690001</td>\n",
       "      <td>27.420000</td>\n",
       "      <td>27.639999</td>\n",
       "      <td>27.639999</td>\n",
       "      <td>593100</td>\n",
       "    </tr>\n",
       "    <tr>\n",
       "      <th>1</th>\n",
       "      <td>2011-03-31</td>\n",
       "      <td>27.510000</td>\n",
       "      <td>27.750000</td>\n",
       "      <td>27.400000</td>\n",
       "      <td>27.650000</td>\n",
       "      <td>27.650000</td>\n",
       "      <td>1083200</td>\n",
       "    </tr>\n",
       "    <tr>\n",
       "      <th>2</th>\n",
       "      <td>2011-04-01</td>\n",
       "      <td>27.719999</td>\n",
       "      <td>27.900000</td>\n",
       "      <td>27.629999</td>\n",
       "      <td>27.780001</td>\n",
       "      <td>27.780001</td>\n",
       "      <td>969500</td>\n",
       "    </tr>\n",
       "    <tr>\n",
       "      <th>3</th>\n",
       "      <td>2011-04-04</td>\n",
       "      <td>27.700001</td>\n",
       "      <td>27.760000</td>\n",
       "      <td>27.520000</td>\n",
       "      <td>27.660000</td>\n",
       "      <td>27.660000</td>\n",
       "      <td>439800</td>\n",
       "    </tr>\n",
       "    <tr>\n",
       "      <th>4</th>\n",
       "      <td>2011-04-05</td>\n",
       "      <td>27.590000</td>\n",
       "      <td>27.719999</td>\n",
       "      <td>27.549999</td>\n",
       "      <td>27.600000</td>\n",
       "      <td>27.600000</td>\n",
       "      <td>558500</td>\n",
       "    </tr>\n",
       "  </tbody>\n",
       "</table>\n",
       "</div>"
      ],
      "text/plain": [
       "         Date       Open       High        Low      Close  Adj Close   Volume\n",
       "0  2011-03-30  27.500000  27.690001  27.420000  27.639999  27.639999   593100\n",
       "1  2011-03-31  27.510000  27.750000  27.400000  27.650000  27.650000  1083200\n",
       "2  2011-04-01  27.719999  27.900000  27.629999  27.780001  27.780001   969500\n",
       "3  2011-04-04  27.700001  27.760000  27.520000  27.660000  27.660000   439800\n",
       "4  2011-04-05  27.590000  27.719999  27.549999  27.600000  27.600000   558500"
      ]
     },
     "execution_count": 62,
     "metadata": {},
     "output_type": "execute_result"
    }
   ],
   "source": [
    "def readTrain():\n",
    "  train = pd.read_csv(\"SNPS.csv\")\n",
    "#   train.head(5)\n",
    "  return train\n",
    "train = readTrain()\n",
    "print(train.shape)\n",
    "train.head()"
   ]
  },
  {
   "cell_type": "code",
   "execution_count": 63,
   "metadata": {},
   "outputs": [
    {
     "name": "stdout",
     "output_type": "stream",
     "text": [
      "(2264, 11)\n"
     ]
    },
    {
     "data": {
      "text/html": [
       "<div>\n",
       "<style scoped>\n",
       "    .dataframe tbody tr th:only-of-type {\n",
       "        vertical-align: middle;\n",
       "    }\n",
       "\n",
       "    .dataframe tbody tr th {\n",
       "        vertical-align: top;\n",
       "    }\n",
       "\n",
       "    .dataframe thead th {\n",
       "        text-align: right;\n",
       "    }\n",
       "</style>\n",
       "<table border=\"1\" class=\"dataframe\">\n",
       "  <thead>\n",
       "    <tr style=\"text-align: right;\">\n",
       "      <th></th>\n",
       "      <th>Date</th>\n",
       "      <th>Open</th>\n",
       "      <th>High</th>\n",
       "      <th>Low</th>\n",
       "      <th>Close</th>\n",
       "      <th>Adj Close</th>\n",
       "      <th>Volume</th>\n",
       "      <th>year</th>\n",
       "      <th>month</th>\n",
       "      <th>date</th>\n",
       "      <th>day</th>\n",
       "    </tr>\n",
       "  </thead>\n",
       "  <tbody>\n",
       "    <tr>\n",
       "      <th>0</th>\n",
       "      <td>2011-03-30</td>\n",
       "      <td>27.500000</td>\n",
       "      <td>27.690001</td>\n",
       "      <td>27.420000</td>\n",
       "      <td>27.639999</td>\n",
       "      <td>27.639999</td>\n",
       "      <td>593100</td>\n",
       "      <td>2011</td>\n",
       "      <td>3</td>\n",
       "      <td>30</td>\n",
       "      <td>2</td>\n",
       "    </tr>\n",
       "    <tr>\n",
       "      <th>1</th>\n",
       "      <td>2011-03-31</td>\n",
       "      <td>27.510000</td>\n",
       "      <td>27.750000</td>\n",
       "      <td>27.400000</td>\n",
       "      <td>27.650000</td>\n",
       "      <td>27.650000</td>\n",
       "      <td>1083200</td>\n",
       "      <td>2011</td>\n",
       "      <td>3</td>\n",
       "      <td>31</td>\n",
       "      <td>3</td>\n",
       "    </tr>\n",
       "    <tr>\n",
       "      <th>2</th>\n",
       "      <td>2011-04-01</td>\n",
       "      <td>27.719999</td>\n",
       "      <td>27.900000</td>\n",
       "      <td>27.629999</td>\n",
       "      <td>27.780001</td>\n",
       "      <td>27.780001</td>\n",
       "      <td>969500</td>\n",
       "      <td>2011</td>\n",
       "      <td>4</td>\n",
       "      <td>1</td>\n",
       "      <td>4</td>\n",
       "    </tr>\n",
       "    <tr>\n",
       "      <th>3</th>\n",
       "      <td>2011-04-04</td>\n",
       "      <td>27.700001</td>\n",
       "      <td>27.760000</td>\n",
       "      <td>27.520000</td>\n",
       "      <td>27.660000</td>\n",
       "      <td>27.660000</td>\n",
       "      <td>439800</td>\n",
       "      <td>2011</td>\n",
       "      <td>4</td>\n",
       "      <td>4</td>\n",
       "      <td>0</td>\n",
       "    </tr>\n",
       "    <tr>\n",
       "      <th>4</th>\n",
       "      <td>2011-04-05</td>\n",
       "      <td>27.590000</td>\n",
       "      <td>27.719999</td>\n",
       "      <td>27.549999</td>\n",
       "      <td>27.600000</td>\n",
       "      <td>27.600000</td>\n",
       "      <td>558500</td>\n",
       "      <td>2011</td>\n",
       "      <td>4</td>\n",
       "      <td>5</td>\n",
       "      <td>1</td>\n",
       "    </tr>\n",
       "  </tbody>\n",
       "</table>\n",
       "</div>"
      ],
      "text/plain": [
       "        Date       Open       High        Low      Close  Adj Close   Volume  \\\n",
       "0 2011-03-30  27.500000  27.690001  27.420000  27.639999  27.639999   593100   \n",
       "1 2011-03-31  27.510000  27.750000  27.400000  27.650000  27.650000  1083200   \n",
       "2 2011-04-01  27.719999  27.900000  27.629999  27.780001  27.780001   969500   \n",
       "3 2011-04-04  27.700001  27.760000  27.520000  27.660000  27.660000   439800   \n",
       "4 2011-04-05  27.590000  27.719999  27.549999  27.600000  27.600000   558500   \n",
       "\n",
       "   year  month  date  day  \n",
       "0  2011      3    30    2  \n",
       "1  2011      3    31    3  \n",
       "2  2011      4     1    4  \n",
       "3  2011      4     4    0  \n",
       "4  2011      4     5    1  "
      ]
     },
     "execution_count": 63,
     "metadata": {},
     "output_type": "execute_result"
    }
   ],
   "source": [
    "def augFeatures(train):\n",
    "  train[\"Date\"] = pd.to_datetime(train[\"Date\"])\n",
    "  train[\"year\"] = train[\"Date\"].dt.year\n",
    "  train[\"month\"] = train[\"Date\"].dt.month\n",
    "  train[\"date\"] = train[\"Date\"].dt.day\n",
    "  train[\"day\"] = train[\"Date\"].dt.dayofweek\n",
    "  return train\n",
    "train = augFeatures(train)\n",
    "print(train.shape)\n",
    "train.head()"
   ]
  },
  {
   "cell_type": "code",
   "execution_count": 71,
   "metadata": {},
   "outputs": [
    {
     "name": "stdout",
     "output_type": "stream",
     "text": [
      "(2264, 10)\n"
     ]
    },
    {
     "data": {
      "text/html": [
       "<div>\n",
       "<style scoped>\n",
       "    .dataframe tbody tr th:only-of-type {\n",
       "        vertical-align: middle;\n",
       "    }\n",
       "\n",
       "    .dataframe tbody tr th {\n",
       "        vertical-align: top;\n",
       "    }\n",
       "\n",
       "    .dataframe thead th {\n",
       "        text-align: right;\n",
       "    }\n",
       "</style>\n",
       "<table border=\"1\" class=\"dataframe\">\n",
       "  <thead>\n",
       "    <tr style=\"text-align: right;\">\n",
       "      <th></th>\n",
       "      <th>Date</th>\n",
       "      <th>Open</th>\n",
       "      <th>High</th>\n",
       "      <th>Low</th>\n",
       "      <th>Close</th>\n",
       "      <th>Adj Close</th>\n",
       "      <th>Volume</th>\n",
       "      <th>year</th>\n",
       "      <th>month</th>\n",
       "      <th>date</th>\n",
       "      <th>day</th>\n",
       "    </tr>\n",
       "  </thead>\n",
       "  <tbody>\n",
       "    <tr>\n",
       "      <th>0</th>\n",
       "      <td>2011-03-30</td>\n",
       "      <td>27.500000</td>\n",
       "      <td>27.690001</td>\n",
       "      <td>27.420000</td>\n",
       "      <td>27.639999</td>\n",
       "      <td>27.639999</td>\n",
       "      <td>593100</td>\n",
       "      <td>2011</td>\n",
       "      <td>3</td>\n",
       "      <td>30</td>\n",
       "      <td>2</td>\n",
       "    </tr>\n",
       "    <tr>\n",
       "      <th>1</th>\n",
       "      <td>2011-03-31</td>\n",
       "      <td>27.510000</td>\n",
       "      <td>27.750000</td>\n",
       "      <td>27.400000</td>\n",
       "      <td>27.650000</td>\n",
       "      <td>27.650000</td>\n",
       "      <td>1083200</td>\n",
       "      <td>2011</td>\n",
       "      <td>3</td>\n",
       "      <td>31</td>\n",
       "      <td>3</td>\n",
       "    </tr>\n",
       "    <tr>\n",
       "      <th>2</th>\n",
       "      <td>2011-04-01</td>\n",
       "      <td>27.719999</td>\n",
       "      <td>27.900000</td>\n",
       "      <td>27.629999</td>\n",
       "      <td>27.780001</td>\n",
       "      <td>27.780001</td>\n",
       "      <td>969500</td>\n",
       "      <td>2011</td>\n",
       "      <td>4</td>\n",
       "      <td>1</td>\n",
       "      <td>4</td>\n",
       "    </tr>\n",
       "    <tr>\n",
       "      <th>3</th>\n",
       "      <td>2011-04-04</td>\n",
       "      <td>27.700001</td>\n",
       "      <td>27.760000</td>\n",
       "      <td>27.520000</td>\n",
       "      <td>27.660000</td>\n",
       "      <td>27.660000</td>\n",
       "      <td>439800</td>\n",
       "      <td>2011</td>\n",
       "      <td>4</td>\n",
       "      <td>4</td>\n",
       "      <td>0</td>\n",
       "    </tr>\n",
       "    <tr>\n",
       "      <th>4</th>\n",
       "      <td>2011-04-05</td>\n",
       "      <td>27.590000</td>\n",
       "      <td>27.719999</td>\n",
       "      <td>27.549999</td>\n",
       "      <td>27.600000</td>\n",
       "      <td>27.600000</td>\n",
       "      <td>558500</td>\n",
       "      <td>2011</td>\n",
       "      <td>4</td>\n",
       "      <td>5</td>\n",
       "      <td>1</td>\n",
       "    </tr>\n",
       "  </tbody>\n",
       "</table>\n",
       "</div>"
      ],
      "text/plain": [
       "        Date       Open       High        Low      Close  Adj Close   Volume  \\\n",
       "0 2011-03-30  27.500000  27.690001  27.420000  27.639999  27.639999   593100   \n",
       "1 2011-03-31  27.510000  27.750000  27.400000  27.650000  27.650000  1083200   \n",
       "2 2011-04-01  27.719999  27.900000  27.629999  27.780001  27.780001   969500   \n",
       "3 2011-04-04  27.700001  27.760000  27.520000  27.660000  27.660000   439800   \n",
       "4 2011-04-05  27.590000  27.719999  27.549999  27.600000  27.600000   558500   \n",
       "\n",
       "   year  month  date  day  \n",
       "0  2011      3    30    2  \n",
       "1  2011      3    31    3  \n",
       "2  2011      4     1    4  \n",
       "3  2011      4     4    0  \n",
       "4  2011      4     5    1  "
      ]
     },
     "execution_count": 71,
     "metadata": {},
     "output_type": "execute_result"
    }
   ],
   "source": [
    "def normalize(train):\n",
    "  orig_train = train\n",
    "  train = train.drop([\"Date\"], axis=1)\n",
    "  train_norm = train.apply(lambda x: (x - np.mean(x)) / (np.max(x) - np.min(x)))\n",
    "  return train_norm, orig_train\n",
    "train_norm, train_norm_orig = normalize(train)\n",
    "print(train_norm.shape)\n",
    "train_norm_orig.head()"
   ]
  },
  {
   "cell_type": "markdown",
   "metadata": {},
   "source": [
    "# Plot"
   ]
  },
  {
   "cell_type": "code",
   "execution_count": 74,
   "metadata": {},
   "outputs": [
    {
     "data": {
      "image/png": "[encoded data removed]",
      "text/plain": [
       "<Figure size 432x288 with 1 Axes>"
      ]
     },
     "metadata": {
      "needs_background": "light"
     },
     "output_type": "display_data"
    }
   ],
   "source": [
    "# def plot_stock(stock_name=\"SNPS\"):\n",
    "def plot_stock(df):\n",
    "#     df = get_stock_data(stock_name, normalize=True)\n",
    "#     print(df.head())\n",
    "    plt.plot(df['Date'], df['Adj Close'], color='red', label='Adj Close')\n",
    "    plt.legend(loc='best')\n",
    "    plt.show()\n",
    "plot_stock(train_norm_orig)"
   ]
  },
  {
   "cell_type": "markdown",
   "metadata": {},
   "source": [
    "# Data Preparation "
   ]
  },
  {
   "cell_type": "code",
   "execution_count": 50,
   "metadata": {},
   "outputs": [
    {
     "name": "stdout",
     "output_type": "stream",
     "text": [
      "(1432, 30, 10) (1432, 5)\n"
     ]
    }
   ],
   "source": [
    "def buildTrain(train, pastDay=30, futureDay=5):\n",
    "  X_train, Y_train = [], []\n",
    "  for i in range(train.shape[0]-futureDay-pastDay):\n",
    "    X_train.append(np.array(train.iloc[i:i+pastDay]))\n",
    "    Y_train.append(np.array(train.iloc[i+pastDay:i+pastDay+futureDay][\"Adj Close\"]))\n",
    "  return np.array(X_train), np.array(Y_train)\n",
    "X_train, Y_train = buildTrain(train_norm)\n",
    "print(X_train.shape, Y_train.shape)"
   ]
  },
  {
   "cell_type": "code",
   "execution_count": 51,
   "metadata": {},
   "outputs": [],
   "source": [
    "def shuffle(X,Y):\n",
    "  np.random.seed(10)\n",
    "  randomList = np.arange(X.shape[0])\n",
    "  np.random.shuffle(randomList)\n",
    "  return X[randomList], Y[randomList]\n",
    "X_shuffle, Y_shuffle = shuffle(X_train, Y_train)"
   ]
  },
  {
   "cell_type": "code",
   "execution_count": 52,
   "metadata": {},
   "outputs": [],
   "source": [
    "def splitData(X,Y,rate):\n",
    "  X_train = X[int(X.shape[0]*rate):]\n",
    "  Y_train = Y[int(Y.shape[0]*rate):]\n",
    "  X_val = X[:int(X.shape[0]*rate)]\n",
    "  Y_val = Y[:int(Y.shape[0]*rate)]\n",
    "  return X_train, Y_train, X_val, Y_val\n",
    "X_train_, Y_train_, X_val, Y_val = splitData(X_shuffle, Y_shuffle, 0.2)"
   ]
  },
  {
   "cell_type": "code",
   "execution_count": 53,
   "metadata": {},
   "outputs": [],
   "source": [
    "\n",
    "# read SPY.csv\n",
    "train = readTrain()\n",
    "\n",
    "# Augment the features (year, month, date, day)\n",
    "train_Aug = augFeatures(train)\n",
    "\n",
    "# Normalization\n",
    "train_norm = normalize(train_Aug)\n",
    "\n",
    "# build Data, use last 30 days to predict next 5 days\n",
    "X_train, Y_train = buildTrain(train_norm, 30, 5)\n",
    "\n",
    "# shuffle the data, and random seed is 10\n",
    "X_train, Y_train = shuffle(X_train, Y_train)\n",
    "\n",
    "# split training data and validation data\n",
    "X_train, Y_train, X_val, Y_val = splitData(X_train, Y_train, 0.1)\n",
    "# X_trian: (5710, 30, 10)\n",
    "# Y_train: (5710, 5, 1)\n",
    "# X_val: (634, 30, 10)\n",
    "# Y_val: (634, 5, 1)"
   ]
  },
  {
   "cell_type": "markdown",
   "metadata": {},
   "source": [
    "# Models!"
   ]
  },
  {
   "cell_type": "code",
   "execution_count": null,
   "metadata": {},
   "outputs": [],
   "source": [
    "# 1 to 1, 1 to many \n",
    "# ref: https://medium.com/@daniel820710/%E5%88%A9%E7%94%A8keras%E5%BB%BA%E6%A7%8Blstm%E6%A8%A1%E5%9E%8B-%E4%BB%A5stock-prediction-%E7%82%BA%E4%BE%8B-1-67456e0a0b"
   ]
  }
 ],
 "metadata": {
  "kernelspec": {
   "display_name": "Python 3",
   "language": "python",
   "name": "python3"
  },
  "language_info": {
   "codemirror_mode": {
    "name": "ipython",
    "version": 3
   },
   "file_extension": ".py",
   "mimetype": "text/x-python",
   "name": "python",
   "nbconvert_exporter": "python",
   "pygments_lexer": "ipython3",
   "version": "3.6.8"
  }
 },
 "nbformat": 4,
 "nbformat_minor": 2
}
