{
 "cells": [
  {
   "cell_type": "code",
   "execution_count": 14,
   "metadata": {},
   "outputs": [
    {
     "name": "stdout",
     "output_type": "stream",
     "text": [
      "/Users/joe/anaconda3/envs/joe_py36/bin/python\r\n"
     ]
    }
   ],
   "source": [
    "! which python"
   ]
  },
  {
   "cell_type": "code",
   "execution_count": 34,
   "metadata": {},
   "outputs": [
    {
     "name": "stdout",
     "output_type": "stream",
     "text": [
      "Number of POIs found: 0\n",
      "Output file: output/high school/out_250839322,1215765468,_250339529,1215651265.txt\n"
     ]
    },
    {
     "data": {
      "text/html": [
       "<div>\n",
       "<style scoped>\n",
       "    .dataframe tbody tr th:only-of-type {\n",
       "        vertical-align: middle;\n",
       "    }\n",
       "\n",
       "    .dataframe tbody tr th {\n",
       "        vertical-align: top;\n",
       "    }\n",
       "\n",
       "    .dataframe thead th {\n",
       "        text-align: right;\n",
       "    }\n",
       "</style>\n",
       "<table border=\"1\" class=\"dataframe\">\n",
       "  <thead>\n",
       "    <tr style=\"text-align: right;\">\n",
       "      <th></th>\n",
       "    </tr>\n",
       "  </thead>\n",
       "  <tbody>\n",
       "  </tbody>\n",
       "</table>\n",
       "</div>"
      ],
      "text/plain": [
       "Empty DataFrame\n",
       "Columns: []\n",
       "Index: []"
      ]
     },
     "metadata": {},
     "output_type": "display_data"
    }
   ],
   "source": [
    "import os\n",
    "import requests\n",
    "import json\n",
    "import pandas as pd\n",
    "from tabulate import tabulate\n",
    "def tomtom_category_search_request(api_key, category, top_left=None, btm_right=None):\n",
    "    # create the directory if it doesn't exist:\n",
    "    directory = 'output/' + category\n",
    "    if not os.path.exists(directory):\n",
    "        os.makedirs(directory)\n",
    "    url = \"\"\"\n",
    "            https://api.tomtom.com/search/2/categorySearch/{category}.json?key={api_key}&topLeft={top_left}&btmRight={btm_right}&countrySet=ZA&limit=100\n",
    "          \"\"\".format(category=category, api_key=api_key, top_left=top_left, btm_right=btm_right)\n",
    "    filename = 'output/' + category + '/out_' + str(top_left).replace('.','') + '_' + str(btm_right).replace('.','') + '.txt'\n",
    "    response = requests.get(url)\n",
    "    data = response.json()\n",
    "    if 'httpStatusCode' not in data:\n",
    "        with open(filename, 'w') as outfile:\n",
    "            json.dump(data, outfile)\n",
    "\n",
    "        number_pois = len(data['results'])\n",
    "        poi_data = {}\n",
    "        # extract the fields we need\n",
    "        for result in data['results']:\n",
    "            name = result[\"poi\"][\"name\"] if \"name\" in result[\"poi\"] else None\n",
    "            id = result[\"id\"] if \"id\" in result else None\n",
    "            lat = result[\"position\"][\"lat\"] if \"lat\" in result[\"position\"] else None\n",
    "            lon = result[\"position\"][\"lon\"] if \"lon\" in result[\"position\"] else None\n",
    "            categories = [j[0][\"name\"] for j in [i[\"names\"] for i in result[\"poi\"][\"classifications\"]]][0]    \n",
    "            countrySubdivision = result[\"address\"][\"countrySubdivision\"] if \"countrySubdivision\" in result[\"address\"] else None\n",
    "            freeformAddress = result[\"address\"][\"freeformAddress\"] if \"freeformAddress\" in result[\"address\"] else None\n",
    "            poi_data[id] = {\n",
    "                'name': name,\n",
    "                'lat': lat,\n",
    "                'lon': lon,\n",
    "                'categories': categories,\n",
    "                'countrySubdivision': countrySubdivision,\n",
    "                'freeformAddress': freeformAddress\n",
    "            }\n",
    "\n",
    "        return {\"data\": poi_data, \"filename\": filename, \"number_pois\": number_pois}\n",
    "    else:\n",
    "        return {\"error\": \"error\"}\n",
    "\n",
    "# api_key = '<My API KEY>' # get your API key here: https://developer.tomtom.com/tomtom-maps-apis-developers\n",
    "api_key = 'I31loGWtvwwXVD9nGFqhIcdv6vfzy1nJ' # get your API key here: https://developer.tomtom.com/tomtom-maps-apis-developers\n",
    "# result = tomtom_category_search_request(api_key, 'cash dispenser', '-28.416455,21.213253', '-28.457805,21.309467')\n",
    "# 25.0824302,121.5764799,17z\n",
    "result = tomtom_category_search_request(api_key, 'high school', '25.0839322,121.5765468,', '25.0339529,121.5651265')\n",
    "print(\"Number of POIs found: \" + str(result['number_pois']))\n",
    "print(\"Output file: \" + result['filename'])\n",
    "# display the first few results\n",
    "display(pd.DataFrame.from_dict(result['data'], orient='index').head())\n",
    "df = pd.DataFrame.from_dict(result['data'], orient='index').head()\n",
    "# print(tabulate(df, headers='keys', tablefmt='psql'))"
   ]
  },
  {
   "cell_type": "code",
   "execution_count": 32,
   "metadata": {},
   "outputs": [
    {
     "name": "stdout",
     "output_type": "stream",
     "text": [
      "\n",
      "Top-left: 25.0824302,121.5764799,\n",
      "Bottom-right: 25.0339529,121.5651265\n",
      "Total POIs found: 0\n",
      "New POIs discovered: 0\n"
     ]
    },
    {
     "data": {
      "text/html": [
       "<div>\n",
       "<style scoped>\n",
       "    .dataframe tbody tr th:only-of-type {\n",
       "        vertical-align: middle;\n",
       "    }\n",
       "\n",
       "    .dataframe tbody tr th {\n",
       "        vertical-align: top;\n",
       "    }\n",
       "\n",
       "    .dataframe thead th {\n",
       "        text-align: right;\n",
       "    }\n",
       "</style>\n",
       "<table border=\"1\" class=\"dataframe\">\n",
       "  <thead>\n",
       "    <tr style=\"text-align: right;\">\n",
       "      <th></th>\n",
       "    </tr>\n",
       "  </thead>\n",
       "  <tbody>\n",
       "  </tbody>\n",
       "</table>\n",
       "</div>"
      ],
      "text/plain": [
       "Empty DataFrame\n",
       "Columns: []\n",
       "Index: []"
      ]
     },
     "metadata": {},
     "output_type": "display_data"
    }
   ],
   "source": [
    "def grid_search(top_left, btm_right, api_key, key_word, pois={}):\n",
    "    print('\\nTop-left: ' + top_left)\n",
    "    print('Bottom-right: ' + btm_right)\n",
    "    result = tomtom_category_search_request(api_key, key_word, top_left=top_left, btm_right=btm_right)\n",
    "    num_discovered = 0\n",
    "    if 'error' not in result:\n",
    "        ids = set(result['data'].keys())\n",
    "        new_ids = ids.difference(set(pois.keys()))\n",
    "        num_discovered = len(new_ids)\n",
    "        for id in new_ids:\n",
    "            pois[id] = result['data'][id]\n",
    "        print(\"Total POIs found: \" + str(len(ids)))\n",
    "        print(\"New POIs discovered: \" + str(num_discovered))        \n",
    "        # if the search returned the max number of results, subdivide\n",
    "        if result[\"number_pois\"] > 98:\n",
    "            print('Subdividing...')\n",
    "            # subdivide\n",
    "            top_leftLat, top_leftLon = top_left.split(',')\n",
    "            btm_rightLat, btm_rightLon = btm_right.split(',')\n",
    "            midLat = str((float(top_leftLat) + float(btm_rightLat))/2)\n",
    "            midLon = str((float(top_leftLon) + float(btm_rightLon))/2)\n",
    "            new_grid = [\n",
    "                [[top_leftLat, top_leftLon], [midLat, midLon]], # top left block\n",
    "                [[top_leftLat, midLon], [midLat, btm_rightLon]], # top right block\n",
    "                [[midLat, top_leftLon], [btm_rightLat, midLon]], # bottom left block\n",
    "                [[midLat, midLon], [btm_rightLat, btm_rightLon]] # bottom right block\n",
    "            ]\n",
    "            for grid in new_grid:\n",
    "                top_left = grid[0][0] + ','+ grid[0][1]\n",
    "                btm_right = grid[1][0] + ',' + grid[1][1]\n",
    "\n",
    "                grid_search(top_left, btm_right, api_key, key_word, pois)\n",
    "    return pois\n",
    "# ct_shopping_centers = grid_search('-33.823464,18.340948', '-34.005645,18.706288', api_key, 'shopping center')\n",
    "# '25.0824302,121.5764799,', '25.0811691,121.570399'\n",
    "ct_shopping_centers = grid_search('25.0824302,121.5764799,', '25.0339529,121.5651265', api_key, 'shopping center')\n",
    "df = pd.DataFrame.from_dict(ct_shopping_centers, orient='index')\n",
    "display(df)\n",
    "# print(df.head(10))\n",
    "# print(tabulate(df.head(10), headers='keys', tablefmt='psql'))"
   ]
  },
  {
   "cell_type": "code",
   "execution_count": 17,
   "metadata": {},
   "outputs": [
    {
     "data": {
      "text/plain": [
       "array(['shopping center', 'house garden: garden centers services', 'shop',\n",
       "       'house garden: do-it-yourself centers'], dtype=object)"
      ]
     },
     "execution_count": 17,
     "metadata": {},
     "output_type": "execute_result"
    }
   ],
   "source": [
    "df.categories.unique()"
   ]
  },
  {
   "cell_type": "code",
   "execution_count": 20,
   "metadata": {},
   "outputs": [
    {
     "data": {
      "text/plain": [
       "array(['shop', 'house garden: garden centers services', 'shopping center'],\n",
       "      dtype=object)"
      ]
     },
     "execution_count": 20,
     "metadata": {},
     "output_type": "execute_result"
    }
   ],
   "source": [
    "import numpy as np\n",
    "np.array(['shop', 'house garden: garden centers services', 'shopping center'],\n",
    "      dtype=object)"
   ]
  },
  {
   "cell_type": "code",
   "execution_count": 21,
   "metadata": {},
   "outputs": [],
   "source": [
    "df = df.query('categories==\"shopping center\"')[['name', 'categories', 'lat', 'lon', 'freeformAddress', 'countrySubdivision']].rename(columns={'freeformAddress': 'Address', 'countrySubdivision': 'Province'})"
   ]
  },
  {
   "cell_type": "code",
   "execution_count": 22,
   "metadata": {},
   "outputs": [
    {
     "data": {
      "text/html": [
       "<div>\n",
       "<style scoped>\n",
       "    .dataframe tbody tr th:only-of-type {\n",
       "        vertical-align: middle;\n",
       "    }\n",
       "\n",
       "    .dataframe tbody tr th {\n",
       "        vertical-align: top;\n",
       "    }\n",
       "\n",
       "    .dataframe thead th {\n",
       "        text-align: right;\n",
       "    }\n",
       "</style>\n",
       "<table border=\"1\" class=\"dataframe\">\n",
       "  <thead>\n",
       "    <tr style=\"text-align: right;\">\n",
       "      <th></th>\n",
       "      <th>name</th>\n",
       "      <th>categories</th>\n",
       "      <th>lat</th>\n",
       "      <th>lon</th>\n",
       "      <th>Address</th>\n",
       "      <th>Province</th>\n",
       "    </tr>\n",
       "  </thead>\n",
       "  <tbody>\n",
       "    <tr>\n",
       "      <th>ZA/POI/p0/102492</th>\n",
       "      <td>210 on Long Shopping Mall</td>\n",
       "      <td>shopping center</td>\n",
       "      <td>-33.92575</td>\n",
       "      <td>18.41529</td>\n",
       "      <td>Long Street, Cape Town, City of Cape Town, Wes...</td>\n",
       "      <td>Western Cape</td>\n",
       "    </tr>\n",
       "    <tr>\n",
       "      <th>ZA/POI/p0/102580</th>\n",
       "      <td>Milnerton Centre</td>\n",
       "      <td>shopping center</td>\n",
       "      <td>-33.88518</td>\n",
       "      <td>18.49491</td>\n",
       "      <td>Cape Town, City of Cape Town, Western Cape, 7441</td>\n",
       "      <td>Western Cape</td>\n",
       "    </tr>\n",
       "    <tr>\n",
       "      <th>ZA/POI/p0/267496</th>\n",
       "      <td>Convenience Centre</td>\n",
       "      <td>shopping center</td>\n",
       "      <td>-33.88966</td>\n",
       "      <td>18.66717</td>\n",
       "      <td>Cape Town, City of Cape Town, Western Cape, 7530</td>\n",
       "      <td>Western Cape</td>\n",
       "    </tr>\n",
       "    <tr>\n",
       "      <th>ZA/POI/p0/101816</th>\n",
       "      <td>Access Park</td>\n",
       "      <td>shopping center</td>\n",
       "      <td>-33.98793</td>\n",
       "      <td>18.48872</td>\n",
       "      <td>Cape Town, City of Cape Town, Western Cape, 7708</td>\n",
       "      <td>Western Cape</td>\n",
       "    </tr>\n",
       "    <tr>\n",
       "      <th>ZA/POI/p0/102322</th>\n",
       "      <td>Bayside Mall</td>\n",
       "      <td>shopping center</td>\n",
       "      <td>-33.82457</td>\n",
       "      <td>18.48966</td>\n",
       "      <td>Raats Drive, Cape Town, City of Cape Town, Wes...</td>\n",
       "      <td>Western Cape</td>\n",
       "    </tr>\n",
       "    <tr>\n",
       "      <th>...</th>\n",
       "      <td>...</td>\n",
       "      <td>...</td>\n",
       "      <td>...</td>\n",
       "      <td>...</td>\n",
       "      <td>...</td>\n",
       "      <td>...</td>\n",
       "    </tr>\n",
       "    <tr>\n",
       "      <th>ZA/POI/p0/101797</th>\n",
       "      <td>AK Centre</td>\n",
       "      <td>shopping center</td>\n",
       "      <td>-33.96804</td>\n",
       "      <td>18.53147</td>\n",
       "      <td>Klipfontein Road, Cape Town, City of Cape Town...</td>\n",
       "      <td>Western Cape</td>\n",
       "    </tr>\n",
       "    <tr>\n",
       "      <th>ZA/POI/p0/102065</th>\n",
       "      <td>Vangate Mall</td>\n",
       "      <td>shopping center</td>\n",
       "      <td>-33.96291</td>\n",
       "      <td>18.53848</td>\n",
       "      <td>Jakes Gerwel Drive, Cape Town, City of Cape To...</td>\n",
       "      <td>Western Cape</td>\n",
       "    </tr>\n",
       "    <tr>\n",
       "      <th>ZA/POI/p0/101581</th>\n",
       "      <td>Access Park Management</td>\n",
       "      <td>shopping center</td>\n",
       "      <td>-33.91841</td>\n",
       "      <td>18.67353</td>\n",
       "      <td>Van Riebeeck Road 1, Cape Town, City of Cape T...</td>\n",
       "      <td>Western Cape</td>\n",
       "    </tr>\n",
       "    <tr>\n",
       "      <th>ZA/POI/p0/102624</th>\n",
       "      <td>Gatesville Shopping Centre</td>\n",
       "      <td>shopping center</td>\n",
       "      <td>-33.97034</td>\n",
       "      <td>18.53522</td>\n",
       "      <td>Cape Town, City of Cape Town, Western Cape, 7764</td>\n",
       "      <td>Western Cape</td>\n",
       "    </tr>\n",
       "    <tr>\n",
       "      <th>ZA/POI/p0/101721</th>\n",
       "      <td>S &amp; H Centre</td>\n",
       "      <td>shopping center</td>\n",
       "      <td>-33.96741</td>\n",
       "      <td>18.52857</td>\n",
       "      <td>Carnie Road, Cape Town, City of Cape Town, Wes...</td>\n",
       "      <td>Western Cape</td>\n",
       "    </tr>\n",
       "  </tbody>\n",
       "</table>\n",
       "<p>232 rows × 6 columns</p>\n",
       "</div>"
      ],
      "text/plain": [
       "                                        name       categories       lat  \\\n",
       "ZA/POI/p0/102492   210 on Long Shopping Mall  shopping center -33.92575   \n",
       "ZA/POI/p0/102580            Milnerton Centre  shopping center -33.88518   \n",
       "ZA/POI/p0/267496          Convenience Centre  shopping center -33.88966   \n",
       "ZA/POI/p0/101816                 Access Park  shopping center -33.98793   \n",
       "ZA/POI/p0/102322                Bayside Mall  shopping center -33.82457   \n",
       "...                                      ...              ...       ...   \n",
       "ZA/POI/p0/101797                   AK Centre  shopping center -33.96804   \n",
       "ZA/POI/p0/102065                Vangate Mall  shopping center -33.96291   \n",
       "ZA/POI/p0/101581      Access Park Management  shopping center -33.91841   \n",
       "ZA/POI/p0/102624  Gatesville Shopping Centre  shopping center -33.97034   \n",
       "ZA/POI/p0/101721                S & H Centre  shopping center -33.96741   \n",
       "\n",
       "                       lon                                            Address  \\\n",
       "ZA/POI/p0/102492  18.41529  Long Street, Cape Town, City of Cape Town, Wes...   \n",
       "ZA/POI/p0/102580  18.49491   Cape Town, City of Cape Town, Western Cape, 7441   \n",
       "ZA/POI/p0/267496  18.66717   Cape Town, City of Cape Town, Western Cape, 7530   \n",
       "ZA/POI/p0/101816  18.48872   Cape Town, City of Cape Town, Western Cape, 7708   \n",
       "ZA/POI/p0/102322  18.48966  Raats Drive, Cape Town, City of Cape Town, Wes...   \n",
       "...                    ...                                                ...   \n",
       "ZA/POI/p0/101797  18.53147  Klipfontein Road, Cape Town, City of Cape Town...   \n",
       "ZA/POI/p0/102065  18.53848  Jakes Gerwel Drive, Cape Town, City of Cape To...   \n",
       "ZA/POI/p0/101581  18.67353  Van Riebeeck Road 1, Cape Town, City of Cape T...   \n",
       "ZA/POI/p0/102624  18.53522   Cape Town, City of Cape Town, Western Cape, 7764   \n",
       "ZA/POI/p0/101721  18.52857  Carnie Road, Cape Town, City of Cape Town, Wes...   \n",
       "\n",
       "                      Province  \n",
       "ZA/POI/p0/102492  Western Cape  \n",
       "ZA/POI/p0/102580  Western Cape  \n",
       "ZA/POI/p0/267496  Western Cape  \n",
       "ZA/POI/p0/101816  Western Cape  \n",
       "ZA/POI/p0/102322  Western Cape  \n",
       "...                        ...  \n",
       "ZA/POI/p0/101797  Western Cape  \n",
       "ZA/POI/p0/102065  Western Cape  \n",
       "ZA/POI/p0/101581  Western Cape  \n",
       "ZA/POI/p0/102624  Western Cape  \n",
       "ZA/POI/p0/101721  Western Cape  \n",
       "\n",
       "[232 rows x 6 columns]"
      ]
     },
     "metadata": {},
     "output_type": "display_data"
    }
   ],
   "source": [
    "display(df)"
   ]
  },
  {
   "cell_type": "code",
   "execution_count": 35,
   "metadata": {},
   "outputs": [
    {
     "data": {
      "text/html": [
       "<div style=\"width:100%;\"><div style=\"position:relative;width:100%;height:0;padding-bottom:60%;\"><iframe src=\"about:blank\" style=\"position:absolute;width:100%;height:100%;left:0;top:0;border:none !important;\" data-html=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 onload=\"this.contentDocument.open();this.contentDocument.write(atob(this.getAttribute('data-html')));this.contentDocument.close();\" allowfullscreen webkitallowfullscreen mozallowfullscreen></iframe></div></div>"
      ],
      "text/plain": [
       "<folium.folium.Map at 0x10a7f55f8>"
      ]
     },
     "execution_count": 35,
     "metadata": {},
     "output_type": "execute_result"
    }
   ],
   "source": [
    "import folium\n",
    "m = folium.Map((25.0339529, 121.5651265), zoom_start=14)\n",
    "m"
   ]
  },
  {
   "cell_type": "code",
   "execution_count": 36,
   "metadata": {},
   "outputs": [
    {
     "data": {
      "text/html": [
       "<div style=\"width:100%;\"><div style=\"position:relative;width:100%;height:0;padding-bottom:60%;\"><iframe src=\"about:blank\" style=\"position:absolute;width:100%;height:100%;left:0;top:0;border:none !important;\" data-html=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 onload=\"this.contentDocument.open();this.contentDocument.write(atob(this.getAttribute('data-html')));this.contentDocument.close();\" allowfullscreen webkitallowfullscreen mozallowfullscreen></iframe></div></div>"
      ],
      "text/plain": [
       "<folium.folium.Map at 0x113efb6a0>"
      ]
     },
     "execution_count": 36,
     "metadata": {},
     "output_type": "execute_result"
    }
   ],
   "source": [
    "import folium\n",
    "m = folium.Map((25.0339529, 121.5651265), tiles=\"Cartodb Positron\", zoom_start=14)\n",
    "m"
   ]
  },
  {
   "cell_type": "code",
   "execution_count": null,
   "metadata": {},
   "outputs": [],
   "source": []
  }
 ],
 "metadata": {
  "kernelspec": {
   "display_name": "Python 3",
   "language": "python",
   "name": "python3"
  },
  "language_info": {
   "codemirror_mode": {
    "name": "ipython",
    "version": 3
   },
   "file_extension": ".py",
   "mimetype": "text/x-python",
   "name": "python",
   "nbconvert_exporter": "python",
   "pygments_lexer": "ipython3",
   "version": "3.6.8"
  }
 },
 "nbformat": 4,
 "nbformat_minor": 2
}
